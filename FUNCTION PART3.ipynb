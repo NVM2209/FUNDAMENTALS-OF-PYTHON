{
 "cells": [
  {
   "cell_type": "markdown",
   "id": "6801fb24",
   "metadata": {},
   "source": [
    "# FUNCTIONS"
   ]
  },
  {
   "cell_type": "markdown",
   "id": "3c4a05b2",
   "metadata": {},
   "source": [
    "Functions are divided into 3 types:-\n",
    "    1) Pre defined functions \n",
    "    2) User defined functions\n",
    "    3) Anonymous functions--- also known as LAMBDA function\n",
    "    \n",
    "    \n",
    "2)USER DEFINED FUNCTIONS--\n",
    "There are 2 variables in this -\n",
    "i)Local variable\n",
    "ii)Global variable \n",
    "\n",
    "Local variables- these are defined within any functions and its lifespan is within the function only.\n",
    "\n",
    "ex--\n",
    "      def f1():\n",
    "        a=10   # this a is local variable \n",
    "        \n",
    "Global variable --these are defined normally in juypter notebook and can be accessed throughout the juypter notebook  that means outside of teh function or in the function.\n",
    "\n",
    "ex--   x=100  # this x is global variable . this can be accessed anywhere.\n",
    "\n",
    "\n",
    "note= If you are declaring any variable with in the function, so it will automatically become local variable ."
   ]
  },
  {
   "cell_type": "code",
   "execution_count": 1,
   "id": "80882f5b",
   "metadata": {},
   "outputs": [],
   "source": [
    "def f1():\n",
    "    a=10   # this is local variable\n",
    "    \n",
    "    print(\"a=\",a)"
   ]
  },
  {
   "cell_type": "code",
   "execution_count": 2,
   "id": "f6c98db7",
   "metadata": {},
   "outputs": [
    {
     "name": "stdout",
     "output_type": "stream",
     "text": [
      "a= 10\n"
     ]
    }
   ],
   "source": [
    "f1()"
   ]
  },
  {
   "cell_type": "code",
   "execution_count": 3,
   "id": "33e52ec3",
   "metadata": {},
   "outputs": [],
   "source": [
    "x=100    # this is global variable"
   ]
  },
  {
   "cell_type": "code",
   "execution_count": 4,
   "id": "990c4427",
   "metadata": {},
   "outputs": [
    {
     "data": {
      "text/plain": [
       "100"
      ]
     },
     "execution_count": 4,
     "metadata": {},
     "output_type": "execute_result"
    }
   ],
   "source": [
    "x"
   ]
  },
  {
   "cell_type": "markdown",
   "id": "c25255bc",
   "metadata": {},
   "source": [
    "RETURN KEYWORD**\n",
    "\n",
    "return is a keyword  which will be returning the values inside the function or no value(void).void means nothing."
   ]
  },
  {
   "cell_type": "code",
   "execution_count": 5,
   "id": "f2095832",
   "metadata": {},
   "outputs": [],
   "source": [
    "def f1():\n",
    "    a=10\n",
    "    b=20\n",
    "    c=a+b\n",
    "    \n",
    "    print(c)   # instead of print we will use return "
   ]
  },
  {
   "cell_type": "code",
   "execution_count": 6,
   "id": "d1b73bab",
   "metadata": {},
   "outputs": [
    {
     "name": "stdout",
     "output_type": "stream",
     "text": [
      "30\n"
     ]
    }
   ],
   "source": [
    "f1()"
   ]
  },
  {
   "cell_type": "code",
   "execution_count": 11,
   "id": "aa309a3f",
   "metadata": {},
   "outputs": [],
   "source": [
    "def addfunc():\n",
    "    a=100\n",
    "    b=20\n",
    "    c=a+b\n",
    "    \n",
    "    \n",
    "    print(\"c=\",c)\n",
    "    return c"
   ]
  },
  {
   "cell_type": "code",
   "execution_count": 12,
   "id": "27f0e3c3",
   "metadata": {},
   "outputs": [
    {
     "name": "stdout",
     "output_type": "stream",
     "text": [
      "c= 120\n"
     ]
    },
    {
     "data": {
      "text/plain": [
       "120"
      ]
     },
     "execution_count": 12,
     "metadata": {},
     "output_type": "execute_result"
    }
   ],
   "source": [
    "addfunc()"
   ]
  },
  {
   "cell_type": "code",
   "execution_count": 13,
   "id": "9accba64",
   "metadata": {},
   "outputs": [],
   "source": [
    "def addfunc():\n",
    "    a=76\n",
    "    b=27\n",
    "    c=a+b\n",
    "    \n",
    "    return c"
   ]
  },
  {
   "cell_type": "code",
   "execution_count": 14,
   "id": "757adf08",
   "metadata": {},
   "outputs": [
    {
     "data": {
      "text/plain": [
       "103"
      ]
     },
     "execution_count": 14,
     "metadata": {},
     "output_type": "execute_result"
    }
   ],
   "source": [
    "addfunc()"
   ]
  },
  {
   "cell_type": "markdown",
   "id": "0992f826",
   "metadata": {},
   "source": [
    "** Print statement will only print . it is not equivalent to return .\n",
    "**Return statement is giving return value."
   ]
  },
  {
   "cell_type": "code",
   "execution_count": 15,
   "id": "687e8942",
   "metadata": {},
   "outputs": [],
   "source": [
    "retvalue=addfunc()"
   ]
  },
  {
   "cell_type": "code",
   "execution_count": 16,
   "id": "323c8a86",
   "metadata": {},
   "outputs": [
    {
     "data": {
      "text/plain": [
       "103"
      ]
     },
     "execution_count": 16,
     "metadata": {},
     "output_type": "execute_result"
    }
   ],
   "source": [
    "retvalue"
   ]
  },
  {
   "cell_type": "code",
   "execution_count": 17,
   "id": "b26db8d1",
   "metadata": {},
   "outputs": [
    {
     "data": {
      "text/plain": [
       "1"
      ]
     },
     "execution_count": 17,
     "metadata": {},
     "output_type": "execute_result"
    }
   ],
   "source": [
    "retvalue%2"
   ]
  },
  {
   "cell_type": "code",
   "execution_count": 18,
   "id": "6d08c9c1",
   "metadata": {},
   "outputs": [
    {
     "data": {
      "text/plain": [
       "10609"
      ]
     },
     "execution_count": 18,
     "metadata": {},
     "output_type": "execute_result"
    }
   ],
   "source": [
    "retvalue**2"
   ]
  },
  {
   "cell_type": "markdown",
   "id": "e46eb087",
   "metadata": {},
   "source": [
    "Using the retvalue to calculate the area of circle :-"
   ]
  },
  {
   "cell_type": "code",
   "execution_count": 33,
   "id": "d8fe0b82",
   "metadata": {},
   "outputs": [],
   "source": [
    "area_of_circle=3.14*(retvalue**2)\n",
    "    "
   ]
  },
  {
   "cell_type": "code",
   "execution_count": 34,
   "id": "c89a4e55",
   "metadata": {},
   "outputs": [
    {
     "data": {
      "text/plain": [
       "33312.26"
      ]
     },
     "execution_count": 34,
     "metadata": {},
     "output_type": "execute_result"
    }
   ],
   "source": [
    "area_of_circle"
   ]
  },
  {
   "cell_type": "code",
   "execution_count": 35,
   "id": "b8746411",
   "metadata": {},
   "outputs": [
    {
     "data": {
      "text/plain": [
       "103"
      ]
     },
     "execution_count": 35,
     "metadata": {},
     "output_type": "execute_result"
    }
   ],
   "source": [
    "retvalue"
   ]
  },
  {
   "cell_type": "markdown",
   "id": "c1a6f10e",
   "metadata": {},
   "source": [
    "SOMETIME RETVALUE doesnot gives you the value .for example:-"
   ]
  },
  {
   "cell_type": "code",
   "execution_count": 36,
   "id": "efc0d2ad",
   "metadata": {},
   "outputs": [],
   "source": [
    "def testf():\n",
    "    for i in range (10):\n",
    "        \n",
    "        print(i)\n",
    "    "
   ]
  },
  {
   "cell_type": "code",
   "execution_count": 37,
   "id": "87f30c49",
   "metadata": {},
   "outputs": [
    {
     "name": "stdout",
     "output_type": "stream",
     "text": [
      "0\n",
      "1\n",
      "2\n",
      "3\n",
      "4\n",
      "5\n",
      "6\n",
      "7\n",
      "8\n",
      "9\n"
     ]
    }
   ],
   "source": [
    "testf()"
   ]
  },
  {
   "cell_type": "code",
   "execution_count": null,
   "id": "90d83efe",
   "metadata": {},
   "outputs": [],
   "source": [
    "now if :--"
   ]
  },
  {
   "cell_type": "code",
   "execution_count": 39,
   "id": "43cd168f",
   "metadata": {},
   "outputs": [],
   "source": [
    " \n",
    "    def testf():\n",
    "        for i in range (10):\n",
    "            if i==3:\n",
    "                return\n",
    "            print(i)"
   ]
  },
  {
   "cell_type": "code",
   "execution_count": 40,
   "id": "48141380",
   "metadata": {},
   "outputs": [
    {
     "name": "stdout",
     "output_type": "stream",
     "text": [
      "0\n",
      "1\n",
      "2\n"
     ]
    }
   ],
   "source": [
    "testf()"
   ]
  },
  {
   "cell_type": "markdown",
   "id": "e5ba9b9b",
   "metadata": {},
   "source": [
    "***MAJOR DIFFERENCE BETWEEN RETURN AND BREAK FUNCTION***\n",
    "\n",
    "**Return is used inside the function or if one want to quit the function in between i can retuen but then there i cannot give any value of return.\n",
    "\n",
    "**Break also work same as return; but break is going to work in for-loop;we cannot use it inside the function.\n",
    "\n",
    "Break is associated with for-loop and return is associated with functions.\n",
    "\n",
    "Break is used to break the loop inbetween on a specific condition  whereas, return is used to come out with a value or no value from function ."
   ]
  },
  {
   "cell_type": "markdown",
   "id": "66fbcfef",
   "metadata": {},
   "source": [
    "Print value will not give any value outisde of a function."
   ]
  },
  {
   "cell_type": "markdown",
   "id": "39b9e418",
   "metadata": {},
   "source": [
    "Once the returned value is coming in any of the variable ,so that variable becomes the global variable ."
   ]
  },
  {
   "cell_type": "code",
   "execution_count": null,
   "id": "59f4ced5",
   "metadata": {},
   "outputs": [],
   "source": [
    "# sign means  - can be used to stop any code  or to write any comment."
   ]
  },
  {
   "cell_type": "code",
   "execution_count": 41,
   "id": "b66debc8",
   "metadata": {},
   "outputs": [],
   "source": [
    "def addf(a,b,c):\n",
    "    d=a+b+c\n",
    "    \n",
    "    print(d)"
   ]
  },
  {
   "cell_type": "code",
   "execution_count": 42,
   "id": "2f8ebffc",
   "metadata": {},
   "outputs": [
    {
     "name": "stdout",
     "output_type": "stream",
     "text": [
      "7\n"
     ]
    }
   ],
   "source": [
    "addf(2,3,2)"
   ]
  },
  {
   "cell_type": "markdown",
   "id": "ce868edb",
   "metadata": {},
   "source": [
    "If we want to add 6 or 7 or 8 parameters ;it means that number of corresponding functions we need to write."
   ]
  },
  {
   "cell_type": "code",
   "execution_count": 43,
   "id": "07806bf3",
   "metadata": {},
   "outputs": [],
   "source": [
    "def addf(a,b,c,d,e):\n",
    "    x=a+b+c+d+e\n",
    "    \n",
    "    print(x)"
   ]
  },
  {
   "cell_type": "code",
   "execution_count": 44,
   "id": "1741c0d5",
   "metadata": {},
   "outputs": [
    {
     "name": "stdout",
     "output_type": "stream",
     "text": [
      "150\n"
     ]
    }
   ],
   "source": [
    "addf(10,20,30,40,50)"
   ]
  },
  {
   "cell_type": "markdown",
   "id": "0277c79f",
   "metadata": {},
   "source": [
    "VARIABLE NUMBER OF ARGUMENTS"
   ]
  },
  {
   "cell_type": "markdown",
   "id": "6b7ac8a9",
   "metadata": {},
   "source": [
    "THIS IS ALSO KNOWN AS * (star argument).it represent number of arguments.\n",
    "\n",
    "This a kind of function through which we can make the control on different types of numbers in these paracentesis.\n",
    "\n",
    "*- wild card character means any number of character or argument(a,b)(a,b,c)\n"
   ]
  },
  {
   "cell_type": "code",
   "execution_count": 45,
   "id": "986ccb12",
   "metadata": {},
   "outputs": [],
   "source": [
    "def testf_add(*args):\n",
    "    return sum(args)"
   ]
  },
  {
   "cell_type": "code",
   "execution_count": 46,
   "id": "a82d9c64",
   "metadata": {},
   "outputs": [
    {
     "data": {
      "text/plain": [
       "15"
      ]
     },
     "execution_count": 46,
     "metadata": {},
     "output_type": "execute_result"
    }
   ],
   "source": [
    "testf_add(5,5,5)"
   ]
  },
  {
   "cell_type": "markdown",
   "id": "938dbef3",
   "metadata": {},
   "source": [
    "sum is a inbulid function and is used in aggregation.\n",
    "\n",
    "variable number of arguments will be working on aggregrate function"
   ]
  },
  {
   "cell_type": "code",
   "execution_count": 47,
   "id": "1d360c36",
   "metadata": {},
   "outputs": [
    {
     "data": {
      "text/plain": [
       "25"
      ]
     },
     "execution_count": 47,
     "metadata": {},
     "output_type": "execute_result"
    }
   ],
   "source": [
    "testf_add(5,10,10)"
   ]
  },
  {
   "cell_type": "code",
   "execution_count": 48,
   "id": "1b00697f",
   "metadata": {},
   "outputs": [],
   "source": [
    "def testf_add(*mt):\n",
    "    return sum(mt)"
   ]
  },
  {
   "cell_type": "code",
   "execution_count": 49,
   "id": "02910108",
   "metadata": {},
   "outputs": [
    {
     "data": {
      "text/plain": [
       "8"
      ]
     },
     "execution_count": 49,
     "metadata": {},
     "output_type": "execute_result"
    }
   ],
   "source": [
    "testf_add(2,2,2,2)"
   ]
  },
  {
   "cell_type": "code",
   "execution_count": 50,
   "id": "2f081130",
   "metadata": {},
   "outputs": [],
   "source": [
    "def minimum_func(*var):\n",
    "    return min(var)"
   ]
  },
  {
   "cell_type": "code",
   "execution_count": 51,
   "id": "d842a047",
   "metadata": {},
   "outputs": [
    {
     "data": {
      "text/plain": [
       "2"
      ]
     },
     "execution_count": 51,
     "metadata": {},
     "output_type": "execute_result"
    }
   ],
   "source": [
    "minimum_func(100,40,20,65,10,2,90)"
   ]
  },
  {
   "cell_type": "code",
   "execution_count": 52,
   "id": "f1e21dc1",
   "metadata": {},
   "outputs": [
    {
     "data": {
      "text/plain": [
       "20"
      ]
     },
     "execution_count": 52,
     "metadata": {},
     "output_type": "execute_result"
    }
   ],
   "source": [
    "minimum_func(50,20,48)"
   ]
  },
  {
   "cell_type": "code",
   "execution_count": 53,
   "id": "d6ab9a30",
   "metadata": {},
   "outputs": [
    {
     "data": {
      "text/plain": [
       "5"
      ]
     },
     "execution_count": 53,
     "metadata": {},
     "output_type": "execute_result"
    }
   ],
   "source": [
    "minimum_func(12,5)"
   ]
  },
  {
   "cell_type": "code",
   "execution_count": 54,
   "id": "e5a9bd87",
   "metadata": {},
   "outputs": [],
   "source": [
    "def maximum_func(*variable):\n",
    "    return max(variable)"
   ]
  },
  {
   "cell_type": "code",
   "execution_count": 55,
   "id": "e89329ee",
   "metadata": {},
   "outputs": [
    {
     "data": {
      "text/plain": [
       "100"
      ]
     },
     "execution_count": 55,
     "metadata": {},
     "output_type": "execute_result"
    }
   ],
   "source": [
    "maximum_func(100,40,68,34,15,80)"
   ]
  },
  {
   "cell_type": "code",
   "execution_count": 56,
   "id": "30c2adcf",
   "metadata": {},
   "outputs": [
    {
     "data": {
      "text/plain": [
       "90"
      ]
     },
     "execution_count": 56,
     "metadata": {},
     "output_type": "execute_result"
    }
   ],
   "source": [
    "maximum_func(50,20,90)"
   ]
  },
  {
   "cell_type": "code",
   "execution_count": null,
   "id": "dce9d6f9",
   "metadata": {},
   "outputs": [],
   "source": [
    "In this we cannot use STRING DATA."
   ]
  },
  {
   "cell_type": "code",
   "execution_count": null,
   "id": "76fd1df7",
   "metadata": {},
   "outputs": [],
   "source": [
    "s=s+n      #s+=n  both are same "
   ]
  },
  {
   "cell_type": "code",
   "execution_count": 60,
   "id": "fbcb1471",
   "metadata": {},
   "outputs": [
    {
     "data": {
      "text/plain": [
       "12"
      ]
     },
     "execution_count": 60,
     "metadata": {},
     "output_type": "execute_result"
    }
   ],
   "source": [
    "\n",
    "s=10\n",
    "n=2\n",
    "\n",
    "s=s+n\n",
    "s"
   ]
  },
  {
   "cell_type": "code",
   "execution_count": 61,
   "id": "678d7dc1",
   "metadata": {},
   "outputs": [],
   "source": [
    "s+=n"
   ]
  },
  {
   "cell_type": "code",
   "execution_count": 62,
   "id": "67e3ffc1",
   "metadata": {},
   "outputs": [
    {
     "data": {
      "text/plain": [
       "14"
      ]
     },
     "execution_count": 62,
     "metadata": {},
     "output_type": "execute_result"
    }
   ],
   "source": [
    "s"
   ]
  },
  {
   "cell_type": "code",
   "execution_count": 66,
   "id": "3ecf85f9",
   "metadata": {},
   "outputs": [],
   "source": [
    "def sumfunc(*numbers):\n",
    "    s=0\n",
    "    for n in numbers:\n",
    "        s+=n\n",
    "    return s"
   ]
  },
  {
   "cell_type": "code",
   "execution_count": 67,
   "id": "e4788c26",
   "metadata": {},
   "outputs": [
    {
     "name": "stdout",
     "output_type": "stream",
     "text": [
      "3\n"
     ]
    }
   ],
   "source": [
    "print(sumfunc(1,2))"
   ]
  },
  {
   "cell_type": "code",
   "execution_count": 68,
   "id": "d6ec57eb",
   "metadata": {},
   "outputs": [
    {
     "data": {
      "text/plain": [
       "3"
      ]
     },
     "execution_count": 68,
     "metadata": {},
     "output_type": "execute_result"
    }
   ],
   "source": [
    "sumfunc(1,2)"
   ]
  },
  {
   "cell_type": "code",
   "execution_count": 69,
   "id": "8db84274",
   "metadata": {},
   "outputs": [
    {
     "name": "stdout",
     "output_type": "stream",
     "text": [
      "6\n"
     ]
    }
   ],
   "source": [
    "print(sumfunc(1,2,3))"
   ]
  },
  {
   "cell_type": "code",
   "execution_count": 70,
   "id": "971ef650",
   "metadata": {},
   "outputs": [],
   "source": [
    "retvalue=sumfunc(1,2)"
   ]
  },
  {
   "cell_type": "code",
   "execution_count": 71,
   "id": "20b2725c",
   "metadata": {},
   "outputs": [
    {
     "data": {
      "text/plain": [
       "3"
      ]
     },
     "execution_count": 71,
     "metadata": {},
     "output_type": "execute_result"
    }
   ],
   "source": [
    "retvalue"
   ]
  },
  {
   "cell_type": "code",
   "execution_count": null,
   "id": "56c0100d",
   "metadata": {},
   "outputs": [],
   "source": []
  }
 ],
 "metadata": {
  "kernelspec": {
   "display_name": "Python 3 (ipykernel)",
   "language": "python",
   "name": "python3"
  },
  "language_info": {
   "codemirror_mode": {
    "name": "ipython",
    "version": 3
   },
   "file_extension": ".py",
   "mimetype": "text/x-python",
   "name": "python",
   "nbconvert_exporter": "python",
   "pygments_lexer": "ipython3",
   "version": "3.9.12"
  }
 },
 "nbformat": 4,
 "nbformat_minor": 5
}
