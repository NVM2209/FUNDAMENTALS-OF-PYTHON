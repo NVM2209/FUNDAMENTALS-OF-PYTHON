{
 "cells": [
  {
   "cell_type": "markdown",
   "id": "7872b8ff",
   "metadata": {},
   "source": [
    "# Welcome to Python Basics "
   ]
  },
  {
   "cell_type": "markdown",
   "id": "bb0ce1c8",
   "metadata": {},
   "source": [
    "Learning Pythons Basics"
   ]
  },
  {
   "cell_type": "markdown",
   "id": "fa8a18c7",
   "metadata": {},
   "source": [
    "Working with operators"
   ]
  },
  {
   "cell_type": "code",
   "execution_count": 1,
   "id": "67543784",
   "metadata": {},
   "outputs": [
    {
     "data": {
      "text/plain": [
       "2"
      ]
     },
     "execution_count": 1,
     "metadata": {},
     "output_type": "execute_result"
    }
   ],
   "source": [
    "1+1"
   ]
  },
  {
   "cell_type": "code",
   "execution_count": 2,
   "id": "bec22647",
   "metadata": {},
   "outputs": [
    {
     "data": {
      "text/plain": [
       "1"
      ]
     },
     "execution_count": 2,
     "metadata": {},
     "output_type": "execute_result"
    }
   ],
   "source": [
    "2-1"
   ]
  },
  {
   "cell_type": "code",
   "execution_count": 3,
   "id": "7cd7d6a6",
   "metadata": {},
   "outputs": [
    {
     "data": {
      "text/plain": [
       "-2"
      ]
     },
     "execution_count": 3,
     "metadata": {},
     "output_type": "execute_result"
    }
   ],
   "source": [
    "5-7"
   ]
  },
  {
   "cell_type": "code",
   "execution_count": 4,
   "id": "38ba12ed",
   "metadata": {},
   "outputs": [
    {
     "data": {
      "text/plain": [
       "18"
      ]
     },
     "execution_count": 4,
     "metadata": {},
     "output_type": "execute_result"
    }
   ],
   "source": [
    "3*6"
   ]
  },
  {
   "cell_type": "code",
   "execution_count": 5,
   "id": "4b1e15dc",
   "metadata": {},
   "outputs": [
    {
     "data": {
      "text/plain": [
       "5.0"
      ]
     },
     "execution_count": 5,
     "metadata": {},
     "output_type": "execute_result"
    }
   ],
   "source": [
    "10/2"
   ]
  },
  {
   "cell_type": "markdown",
   "id": "9b940c13",
   "metadata": {},
   "source": [
    "Floor division that is to remove the decimal sign - use //"
   ]
  },
  {
   "cell_type": "code",
   "execution_count": 11,
   "id": "7898ab2d",
   "metadata": {},
   "outputs": [
    {
     "data": {
      "text/plain": [
       "5"
      ]
     },
     "execution_count": 11,
     "metadata": {},
     "output_type": "execute_result"
    }
   ],
   "source": [
    "10//2"
   ]
  },
  {
   "cell_type": "code",
   "execution_count": 7,
   "id": "677c4a63",
   "metadata": {},
   "outputs": [
    {
     "data": {
      "text/plain": [
       "20"
      ]
     },
     "execution_count": 7,
     "metadata": {},
     "output_type": "execute_result"
    }
   ],
   "source": [
    "62//3"
   ]
  },
  {
   "cell_type": "code",
   "execution_count": 8,
   "id": "d560799f",
   "metadata": {},
   "outputs": [
    {
     "data": {
      "text/plain": [
       "25"
      ]
     },
     "execution_count": 8,
     "metadata": {},
     "output_type": "execute_result"
    }
   ],
   "source": [
    "50//2"
   ]
  },
  {
   "cell_type": "markdown",
   "id": "c36d938f",
   "metadata": {},
   "source": [
    "Modulus command"
   ]
  },
  {
   "cell_type": "markdown",
   "id": "6b1b7c16",
   "metadata": {},
   "source": [
    "Modulus command is basically how we can capture remainder"
   ]
  },
  {
   "cell_type": "code",
   "execution_count": 9,
   "id": "9bfb648f",
   "metadata": {},
   "outputs": [
    {
     "data": {
      "text/plain": [
       "0"
      ]
     },
     "execution_count": 9,
     "metadata": {},
     "output_type": "execute_result"
    }
   ],
   "source": [
    "10%5"
   ]
  },
  {
   "cell_type": "code",
   "execution_count": 10,
   "id": "445d09d1",
   "metadata": {},
   "outputs": [
    {
     "data": {
      "text/plain": [
       "1"
      ]
     },
     "execution_count": 10,
     "metadata": {},
     "output_type": "execute_result"
    }
   ],
   "source": [
    "11%2"
   ]
  },
  {
   "cell_type": "markdown",
   "id": "2b63fc9b",
   "metadata": {},
   "source": [
    "how to write print statements"
   ]
  },
  {
   "cell_type": "code",
   "execution_count": 12,
   "id": "9218d3b2",
   "metadata": {},
   "outputs": [
    {
     "name": "stdout",
     "output_type": "stream",
     "text": [
      "hello\n"
     ]
    }
   ],
   "source": [
    "print(\"hello\")"
   ]
  },
  {
   "cell_type": "code",
   "execution_count": 13,
   "id": "ac7378b9",
   "metadata": {},
   "outputs": [
    {
     "name": "stdout",
     "output_type": "stream",
     "text": [
      "hello\n"
     ]
    }
   ],
   "source": [
    "print('hello')"
   ]
  },
  {
   "cell_type": "markdown",
   "id": "f6b399bb",
   "metadata": {},
   "source": [
    "note- double code and single code both work's here "
   ]
  },
  {
   "cell_type": "code",
   "execution_count": 14,
   "id": "5e0ea906",
   "metadata": {},
   "outputs": [
    {
     "name": "stdout",
     "output_type": "stream",
     "text": [
      "We are learning Pythons basics\n"
     ]
    }
   ],
   "source": [
    "print (\"We are learning Pythons basics\")"
   ]
  },
  {
   "cell_type": "code",
   "execution_count": 15,
   "id": "08008a7a",
   "metadata": {},
   "outputs": [
    {
     "name": "stdout",
     "output_type": "stream",
     "text": [
      "Python  is very easiy language\n"
     ]
    }
   ],
   "source": [
    "print('Python  is very easiy language')"
   ]
  },
  {
   "cell_type": "markdown",
   "id": "1da37cd5",
   "metadata": {},
   "source": [
    "VARIABLES"
   ]
  },
  {
   "cell_type": "markdown",
   "id": "eb8cbb43",
   "metadata": {},
   "source": [
    "Variables are basically containers which will be holding the jupyter values"
   ]
  },
  {
   "cell_type": "code",
   "execution_count": 16,
   "id": "841c29d3",
   "metadata": {},
   "outputs": [],
   "source": [
    "a=10"
   ]
  },
  {
   "cell_type": "code",
   "execution_count": 17,
   "id": "29d9c671",
   "metadata": {},
   "outputs": [],
   "source": [
    "b=6"
   ]
  },
  {
   "cell_type": "code",
   "execution_count": 18,
   "id": "bb421522",
   "metadata": {},
   "outputs": [
    {
     "data": {
      "text/plain": [
       "16"
      ]
     },
     "execution_count": 18,
     "metadata": {},
     "output_type": "execute_result"
    }
   ],
   "source": [
    "a+b"
   ]
  },
  {
   "cell_type": "code",
   "execution_count": 19,
   "id": "8fda3289",
   "metadata": {},
   "outputs": [
    {
     "data": {
      "text/plain": [
       "4"
      ]
     },
     "execution_count": 19,
     "metadata": {},
     "output_type": "execute_result"
    }
   ],
   "source": [
    "a-b"
   ]
  },
  {
   "cell_type": "code",
   "execution_count": 20,
   "id": "9c511e52",
   "metadata": {},
   "outputs": [
    {
     "data": {
      "text/plain": [
       "60"
      ]
     },
     "execution_count": 20,
     "metadata": {},
     "output_type": "execute_result"
    }
   ],
   "source": [
    "a*b"
   ]
  },
  {
   "cell_type": "code",
   "execution_count": 21,
   "id": "bdcc7bfc",
   "metadata": {},
   "outputs": [
    {
     "data": {
      "text/plain": [
       "1.6666666666666667"
      ]
     },
     "execution_count": 21,
     "metadata": {},
     "output_type": "execute_result"
    }
   ],
   "source": [
    "a/b"
   ]
  },
  {
   "cell_type": "code",
   "execution_count": 23,
   "id": "0dfdfd29",
   "metadata": {},
   "outputs": [
    {
     "data": {
      "text/plain": [
       "4"
      ]
     },
     "execution_count": 23,
     "metadata": {},
     "output_type": "execute_result"
    }
   ],
   "source": [
    "a%b"
   ]
  },
  {
   "cell_type": "code",
   "execution_count": 3,
   "id": "7e7699b1",
   "metadata": {},
   "outputs": [],
   "source": [
    "a=40"
   ]
  },
  {
   "cell_type": "code",
   "execution_count": 4,
   "id": "862cb30f",
   "metadata": {},
   "outputs": [],
   "source": [
    "b=5"
   ]
  },
  {
   "cell_type": "code",
   "execution_count": 5,
   "id": "18d3ac41",
   "metadata": {},
   "outputs": [
    {
     "data": {
      "text/plain": [
       "45"
      ]
     },
     "execution_count": 5,
     "metadata": {},
     "output_type": "execute_result"
    }
   ],
   "source": [
    "a+b"
   ]
  },
  {
   "cell_type": "code",
   "execution_count": 30,
   "id": "c4c3e673",
   "metadata": {},
   "outputs": [
    {
     "data": {
      "text/plain": [
       "35"
      ]
     },
     "execution_count": 30,
     "metadata": {},
     "output_type": "execute_result"
    }
   ],
   "source": [
    "a-b"
   ]
  },
  {
   "cell_type": "code",
   "execution_count": 31,
   "id": "ade4eb23",
   "metadata": {},
   "outputs": [
    {
     "data": {
      "text/plain": [
       "200"
      ]
     },
     "execution_count": 31,
     "metadata": {},
     "output_type": "execute_result"
    }
   ],
   "source": [
    "a*b"
   ]
  },
  {
   "cell_type": "code",
   "execution_count": 32,
   "id": "f6e7c26d",
   "metadata": {},
   "outputs": [
    {
     "data": {
      "text/plain": [
       "8.0"
      ]
     },
     "execution_count": 32,
     "metadata": {},
     "output_type": "execute_result"
    }
   ],
   "source": [
    "a/b"
   ]
  },
  {
   "cell_type": "code",
   "execution_count": 33,
   "id": "4f9c2531",
   "metadata": {},
   "outputs": [
    {
     "data": {
      "text/plain": [
       "8"
      ]
     },
     "execution_count": 33,
     "metadata": {},
     "output_type": "execute_result"
    }
   ],
   "source": [
    "a//b"
   ]
  },
  {
   "cell_type": "code",
   "execution_count": 34,
   "id": "0cafa05a",
   "metadata": {},
   "outputs": [
    {
     "data": {
      "text/plain": [
       "0"
      ]
     },
     "execution_count": 34,
     "metadata": {},
     "output_type": "execute_result"
    }
   ],
   "source": [
    "a%b"
   ]
  },
  {
   "cell_type": "code",
   "execution_count": 12,
   "id": "2a663d1f",
   "metadata": {},
   "outputs": [],
   "source": [
    "c=a+b"
   ]
  },
  {
   "cell_type": "code",
   "execution_count": 13,
   "id": "9f891cbe",
   "metadata": {},
   "outputs": [
    {
     "data": {
      "text/plain": [
       "45"
      ]
     },
     "execution_count": 13,
     "metadata": {},
     "output_type": "execute_result"
    }
   ],
   "source": [
    "c"
   ]
  },
  {
   "cell_type": "code",
   "execution_count": 14,
   "id": "e0e1f762",
   "metadata": {},
   "outputs": [],
   "source": [
    "d=a-b"
   ]
  },
  {
   "cell_type": "code",
   "execution_count": 15,
   "id": "8ab91006",
   "metadata": {},
   "outputs": [
    {
     "data": {
      "text/plain": [
       "35"
      ]
     },
     "execution_count": 15,
     "metadata": {},
     "output_type": "execute_result"
    }
   ],
   "source": [
    "d"
   ]
  },
  {
   "cell_type": "code",
   "execution_count": 16,
   "id": "56276f5a",
   "metadata": {},
   "outputs": [],
   "source": [
    "e=a*b"
   ]
  },
  {
   "cell_type": "code",
   "execution_count": 17,
   "id": "32514a56",
   "metadata": {},
   "outputs": [
    {
     "data": {
      "text/plain": [
       "200"
      ]
     },
     "execution_count": 17,
     "metadata": {},
     "output_type": "execute_result"
    }
   ],
   "source": [
    "e"
   ]
  },
  {
   "cell_type": "code",
   "execution_count": 41,
   "id": "4af23308",
   "metadata": {},
   "outputs": [],
   "source": [
    "f=a/b"
   ]
  },
  {
   "cell_type": "code",
   "execution_count": 42,
   "id": "780d58e7",
   "metadata": {},
   "outputs": [
    {
     "data": {
      "text/plain": [
       "8.0"
      ]
     },
     "execution_count": 42,
     "metadata": {},
     "output_type": "execute_result"
    }
   ],
   "source": [
    "f"
   ]
  },
  {
   "cell_type": "markdown",
   "id": "1c10292d",
   "metadata": {},
   "source": [
    "Print statements :-"
   ]
  },
  {
   "cell_type": "markdown",
   "id": "c996f882",
   "metadata": {},
   "source": [
    "remember- (c) will take variable as not under double code but (\"c=\")will display same because it is underdouble code."
   ]
  },
  {
   "cell_type": "code",
   "execution_count": 43,
   "id": "37171a59",
   "metadata": {},
   "outputs": [
    {
     "name": "stdout",
     "output_type": "stream",
     "text": [
      "45\n"
     ]
    }
   ],
   "source": [
    "print(c)"
   ]
  },
  {
   "cell_type": "code",
   "execution_count": 44,
   "id": "58358d8c",
   "metadata": {},
   "outputs": [
    {
     "name": "stdout",
     "output_type": "stream",
     "text": [
      "c=\n"
     ]
    }
   ],
   "source": [
    "print(\"c=\")"
   ]
  },
  {
   "cell_type": "code",
   "execution_count": 45,
   "id": "9fb81911",
   "metadata": {},
   "outputs": [
    {
     "name": "stdout",
     "output_type": "stream",
     "text": [
      "c= 45\n"
     ]
    }
   ],
   "source": [
    "print (\"c=\",c)"
   ]
  },
  {
   "cell_type": "code",
   "execution_count": 46,
   "id": "a647a1ff",
   "metadata": {},
   "outputs": [
    {
     "name": "stdout",
     "output_type": "stream",
     "text": [
      "35\n"
     ]
    }
   ],
   "source": [
    "print(d)"
   ]
  },
  {
   "cell_type": "code",
   "execution_count": 47,
   "id": "b6ac0bf1",
   "metadata": {},
   "outputs": [
    {
     "name": "stdout",
     "output_type": "stream",
     "text": [
      "d= 35\n"
     ]
    }
   ],
   "source": [
    "print(\"d=\",d)"
   ]
  },
  {
   "cell_type": "code",
   "execution_count": 48,
   "id": "9514621b",
   "metadata": {},
   "outputs": [
    {
     "name": "stdout",
     "output_type": "stream",
     "text": [
      "45\n"
     ]
    }
   ],
   "source": [
    "print(a+b)"
   ]
  },
  {
   "cell_type": "code",
   "execution_count": 49,
   "id": "e6d97516",
   "metadata": {},
   "outputs": [
    {
     "name": "stdout",
     "output_type": "stream",
     "text": [
      "35\n"
     ]
    }
   ],
   "source": [
    "print(a-b)"
   ]
  },
  {
   "cell_type": "code",
   "execution_count": 50,
   "id": "0de2cabc",
   "metadata": {},
   "outputs": [
    {
     "name": "stdout",
     "output_type": "stream",
     "text": [
      "the value of c\n"
     ]
    }
   ],
   "source": [
    "print(\"the value of c\")"
   ]
  },
  {
   "cell_type": "code",
   "execution_count": 6,
   "id": "79222a50",
   "metadata": {},
   "outputs": [
    {
     "name": "stdout",
     "output_type": "stream",
     "text": [
      "the value of d= 35\n"
     ]
    }
   ],
   "source": [
    "print(\"the value of d=\",a-b)"
   ]
  },
  {
   "cell_type": "code",
   "execution_count": 7,
   "id": "1b878150",
   "metadata": {},
   "outputs": [
    {
     "name": "stdout",
     "output_type": "stream",
     "text": [
      "multiply= 200\n"
     ]
    }
   ],
   "source": [
    "print(\"multiply=\",a*b)"
   ]
  },
  {
   "cell_type": "code",
   "execution_count": 8,
   "id": "ca3ca2ba",
   "metadata": {},
   "outputs": [
    {
     "name": "stdout",
     "output_type": "stream",
     "text": [
      "division= 8.0\n"
     ]
    }
   ],
   "source": [
    "print(\"division=\",a/b)"
   ]
  },
  {
   "cell_type": "code",
   "execution_count": 9,
   "id": "99e72367",
   "metadata": {},
   "outputs": [
    {
     "name": "stdout",
     "output_type": "stream",
     "text": [
      "division= 8\n"
     ]
    }
   ],
   "source": [
    "print(\"division=\",a//b)"
   ]
  },
  {
   "cell_type": "code",
   "execution_count": 10,
   "id": "90b485a7",
   "metadata": {},
   "outputs": [
    {
     "name": "stdout",
     "output_type": "stream",
     "text": [
      "percentage= 0\n"
     ]
    }
   ],
   "source": [
    "print(\"percentage=\",a%b)"
   ]
  },
  {
   "cell_type": "markdown",
   "id": "bb95012e",
   "metadata": {},
   "source": [
    "HOW TO WRITE POWER FUNCTION IN PYTHONS?"
   ]
  },
  {
   "cell_type": "code",
   "execution_count": 18,
   "id": "ce26fa83",
   "metadata": {},
   "outputs": [
    {
     "data": {
      "text/plain": [
       "4"
      ]
     },
     "execution_count": 18,
     "metadata": {},
     "output_type": "execute_result"
    }
   ],
   "source": [
    "2**2"
   ]
  },
  {
   "cell_type": "code",
   "execution_count": 19,
   "id": "74a1dd1f",
   "metadata": {},
   "outputs": [
    {
     "data": {
      "text/plain": [
       "8"
      ]
     },
     "execution_count": 19,
     "metadata": {},
     "output_type": "execute_result"
    }
   ],
   "source": [
    "2**3"
   ]
  },
  {
   "cell_type": "code",
   "execution_count": 20,
   "id": "c1d00698",
   "metadata": {},
   "outputs": [
    {
     "data": {
      "text/plain": [
       "9"
      ]
     },
     "execution_count": 20,
     "metadata": {},
     "output_type": "execute_result"
    }
   ],
   "source": [
    "3**2"
   ]
  },
  {
   "cell_type": "code",
   "execution_count": 21,
   "id": "01b8f6b7",
   "metadata": {},
   "outputs": [
    {
     "data": {
      "text/plain": [
       "81"
      ]
     },
     "execution_count": 21,
     "metadata": {},
     "output_type": "execute_result"
    }
   ],
   "source": [
    "3**4"
   ]
  },
  {
   "cell_type": "code",
   "execution_count": 22,
   "id": "9259bf30",
   "metadata": {},
   "outputs": [
    {
     "data": {
      "text/plain": [
       "256"
      ]
     },
     "execution_count": 22,
     "metadata": {},
     "output_type": "execute_result"
    }
   ],
   "source": [
    "4**4"
   ]
  },
  {
   "cell_type": "code",
   "execution_count": 23,
   "id": "d4096fff",
   "metadata": {},
   "outputs": [
    {
     "data": {
      "text/plain": [
       "25"
      ]
     },
     "execution_count": 23,
     "metadata": {},
     "output_type": "execute_result"
    }
   ],
   "source": [
    "5**2"
   ]
  },
  {
   "cell_type": "code",
   "execution_count": 24,
   "id": "349fdc01",
   "metadata": {},
   "outputs": [
    {
     "data": {
      "text/plain": [
       "343"
      ]
     },
     "execution_count": 24,
     "metadata": {},
     "output_type": "execute_result"
    }
   ],
   "source": [
    "7**3"
   ]
  },
  {
   "cell_type": "markdown",
   "id": "cc9f38e3",
   "metadata": {},
   "source": [
    "HOW TO FIND LEN FUNCTION? TO FIND OUT HOW MANY CHARACTERS ARE PRESENT."
   ]
  },
  {
   "cell_type": "code",
   "execution_count": 25,
   "id": "94b38101",
   "metadata": {},
   "outputs": [
    {
     "data": {
      "text/plain": [
       "3"
      ]
     },
     "execution_count": 25,
     "metadata": {},
     "output_type": "execute_result"
    }
   ],
   "source": [
    "len(\"abc\")"
   ]
  },
  {
   "cell_type": "code",
   "execution_count": 26,
   "id": "415f5cff",
   "metadata": {},
   "outputs": [
    {
     "data": {
      "text/plain": [
       "4"
      ]
     },
     "execution_count": 26,
     "metadata": {},
     "output_type": "execute_result"
    }
   ],
   "source": [
    "len(\"city\")"
   ]
  },
  {
   "cell_type": "code",
   "execution_count": 27,
   "id": "fdfc84b6",
   "metadata": {},
   "outputs": [
    {
     "data": {
      "text/plain": [
       "5"
      ]
     },
     "execution_count": 27,
     "metadata": {},
     "output_type": "execute_result"
    }
   ],
   "source": [
    "len(\"delhi\")"
   ]
  },
  {
   "cell_type": "code",
   "execution_count": 28,
   "id": "08e9ab4c",
   "metadata": {},
   "outputs": [
    {
     "data": {
      "text/plain": [
       "6"
      ]
     },
     "execution_count": 28,
     "metadata": {},
     "output_type": "execute_result"
    }
   ],
   "source": [
    "len(\"mumbai\")"
   ]
  },
  {
   "cell_type": "code",
   "execution_count": 30,
   "id": "265cd5fe",
   "metadata": {},
   "outputs": [],
   "source": [
    "city=\"bangalore\""
   ]
  },
  {
   "cell_type": "code",
   "execution_count": 31,
   "id": "6f9cf8e0",
   "metadata": {},
   "outputs": [
    {
     "data": {
      "text/plain": [
       "'bangalore'"
      ]
     },
     "execution_count": 31,
     "metadata": {},
     "output_type": "execute_result"
    }
   ],
   "source": [
    "city"
   ]
  },
  {
   "cell_type": "markdown",
   "id": "6d4f2801",
   "metadata": {},
   "source": [
    "NOTE--if we write variable in double code ,it will count character of variable, whereas,if we dont write the variable in double code it will count the character of it's value. SEE BELOW"
   ]
  },
  {
   "cell_type": "code",
   "execution_count": 32,
   "id": "28674f0c",
   "metadata": {},
   "outputs": [
    {
     "data": {
      "text/plain": [
       "4"
      ]
     },
     "execution_count": 32,
     "metadata": {},
     "output_type": "execute_result"
    }
   ],
   "source": [
    "len(\"city\")"
   ]
  },
  {
   "cell_type": "code",
   "execution_count": 33,
   "id": "871f74f1",
   "metadata": {},
   "outputs": [
    {
     "data": {
      "text/plain": [
       "9"
      ]
     },
     "execution_count": 33,
     "metadata": {},
     "output_type": "execute_result"
    }
   ],
   "source": [
    "len(city)"
   ]
  },
  {
   "cell_type": "markdown",
   "id": "17ff80b9",
   "metadata": {},
   "source": [
    "PYTHON is CASE SENSITIVE"
   ]
  },
  {
   "cell_type": "markdown",
   "id": "0245893e",
   "metadata": {},
   "source": [
    "# comparision operators-  (>,<,==)"
   ]
  },
  {
   "cell_type": "markdown",
   "id": "bac9c5e4",
   "metadata": {},
   "source": [
    "< means less than\n",
    "\n"
   ]
  },
  {
   "cell_type": "markdown",
   "id": "9db3e125",
   "metadata": {},
   "source": [
    "--- > means more than"
   ]
  },
  {
   "cell_type": "markdown",
   "id": "8a48b876",
   "metadata": {},
   "source": [
    "!= means not equal to\n",
    "== means equal equal to"
   ]
  },
  {
   "cell_type": "code",
   "execution_count": 35,
   "id": "d32ed223",
   "metadata": {},
   "outputs": [
    {
     "data": {
      "text/plain": [
       "True"
      ]
     },
     "execution_count": 35,
     "metadata": {},
     "output_type": "execute_result"
    }
   ],
   "source": [
    "100<500"
   ]
  },
  {
   "cell_type": "code",
   "execution_count": 36,
   "id": "59ea00a5",
   "metadata": {},
   "outputs": [
    {
     "data": {
      "text/plain": [
       "False"
      ]
     },
     "execution_count": 36,
     "metadata": {},
     "output_type": "execute_result"
    }
   ],
   "source": [
    "1000<50"
   ]
  },
  {
   "cell_type": "code",
   "execution_count": 37,
   "id": "4375f143",
   "metadata": {},
   "outputs": [
    {
     "data": {
      "text/plain": [
       "True"
      ]
     },
     "execution_count": 37,
     "metadata": {},
     "output_type": "execute_result"
    }
   ],
   "source": [
    "20>10"
   ]
  },
  {
   "cell_type": "code",
   "execution_count": 38,
   "id": "da2d6227",
   "metadata": {},
   "outputs": [
    {
     "data": {
      "text/plain": [
       "False"
      ]
     },
     "execution_count": 38,
     "metadata": {},
     "output_type": "execute_result"
    }
   ],
   "source": [
    "20>2000"
   ]
  },
  {
   "cell_type": "code",
   "execution_count": 39,
   "id": "04a9f592",
   "metadata": {},
   "outputs": [
    {
     "data": {
      "text/plain": [
       "True"
      ]
     },
     "execution_count": 39,
     "metadata": {},
     "output_type": "execute_result"
    }
   ],
   "source": [
    "45<90"
   ]
  },
  {
   "cell_type": "code",
   "execution_count": 41,
   "id": "b4503ee6",
   "metadata": {},
   "outputs": [
    {
     "data": {
      "text/plain": [
       "False"
      ]
     },
     "execution_count": 41,
     "metadata": {},
     "output_type": "execute_result"
    }
   ],
   "source": [
    "80<22"
   ]
  },
  {
   "cell_type": "code",
   "execution_count": 42,
   "id": "7e41c26c",
   "metadata": {},
   "outputs": [
    {
     "data": {
      "text/plain": [
       "False"
      ]
     },
     "execution_count": 42,
     "metadata": {},
     "output_type": "execute_result"
    }
   ],
   "source": [
    "55==45"
   ]
  },
  {
   "cell_type": "code",
   "execution_count": 43,
   "id": "c3dff26b",
   "metadata": {},
   "outputs": [
    {
     "data": {
      "text/plain": [
       "True"
      ]
     },
     "execution_count": 43,
     "metadata": {},
     "output_type": "execute_result"
    }
   ],
   "source": [
    "89==89"
   ]
  },
  {
   "cell_type": "code",
   "execution_count": 44,
   "id": "d79dce04",
   "metadata": {},
   "outputs": [
    {
     "data": {
      "text/plain": [
       "True"
      ]
     },
     "execution_count": 44,
     "metadata": {},
     "output_type": "execute_result"
    }
   ],
   "source": [
    "22!=20"
   ]
  },
  {
   "cell_type": "code",
   "execution_count": 45,
   "id": "56f2a968",
   "metadata": {},
   "outputs": [
    {
     "data": {
      "text/plain": [
       "True"
      ]
     },
     "execution_count": 45,
     "metadata": {},
     "output_type": "execute_result"
    }
   ],
   "source": [
    "75!=25"
   ]
  },
  {
   "cell_type": "markdown",
   "id": "0877621a",
   "metadata": {},
   "source": [
    "# DATA TYPE \n",
    "pythons have basic data types"
   ]
  },
  {
   "cell_type": "markdown",
   "id": "dc5d38d9",
   "metadata": {},
   "source": [
    "there are 4 types of data types"
   ]
  },
  {
   "cell_type": "markdown",
   "id": "48ff6f93",
   "metadata": {},
   "source": [
    "1-character / strings ( where we can write \"a\",\"b\",\"c\" as the character value"
   ]
  },
  {
   "cell_type": "markdown",
   "id": "a4c6ae90",
   "metadata": {},
   "source": [
    "2- integers where the numbers will be in digits without decimal as integer value \n",
    "ex- age=12\n",
    "marks=86"
   ]
  },
  {
   "cell_type": "markdown",
   "id": "7fce950d",
   "metadata": {},
   "source": [
    "3- real(float datatype) float values are just like real values. ex- salary 3500.67,temp-97.8.\n",
    "this value will be in decimal form."
   ]
  },
  {
   "cell_type": "markdown",
   "id": "80b84ff1",
   "metadata": {},
   "source": [
    "4- boolean data type-created with  the keyword and ,or,not,is,true ,false"
   ]
  },
  {
   "cell_type": "markdown",
   "id": "6cb5e02f",
   "metadata": {},
   "source": [
    "# string concatenation"
   ]
  },
  {
   "cell_type": "markdown",
   "id": "0e5ab834",
   "metadata": {},
   "source": [
    "---is adding two data's together which are under single code.these are known as string values "
   ]
  },
  {
   "cell_type": "code",
   "execution_count": 48,
   "id": "e3a1cde7",
   "metadata": {},
   "outputs": [
    {
     "data": {
      "text/plain": [
       "10"
      ]
     },
     "execution_count": 48,
     "metadata": {},
     "output_type": "execute_result"
    }
   ],
   "source": [
    "5+5"
   ]
  },
  {
   "cell_type": "markdown",
   "id": "0a8357db",
   "metadata": {},
   "source": [
    "but"
   ]
  },
  {
   "cell_type": "code",
   "execution_count": 50,
   "id": "f151ef8a",
   "metadata": {},
   "outputs": [
    {
     "data": {
      "text/plain": [
       "'54'"
      ]
     },
     "execution_count": 50,
     "metadata": {},
     "output_type": "execute_result"
    }
   ],
   "source": [
    "'5'+'4'"
   ]
  },
  {
   "cell_type": "code",
   "execution_count": 51,
   "id": "d50a9959",
   "metadata": {},
   "outputs": [
    {
     "data": {
      "text/plain": [
       "'55'"
      ]
     },
     "execution_count": 51,
     "metadata": {},
     "output_type": "execute_result"
    }
   ],
   "source": [
    "'5'+'5'"
   ]
  },
  {
   "cell_type": "code",
   "execution_count": 52,
   "id": "8f757cc6",
   "metadata": {},
   "outputs": [
    {
     "data": {
      "text/plain": [
       "'4545'"
      ]
     },
     "execution_count": 52,
     "metadata": {},
     "output_type": "execute_result"
    }
   ],
   "source": [
    "'45'+'45'"
   ]
  },
  {
   "cell_type": "code",
   "execution_count": 54,
   "id": "879704ed",
   "metadata": {},
   "outputs": [
    {
     "data": {
      "text/plain": [
       "'5698'"
      ]
     },
     "execution_count": 54,
     "metadata": {},
     "output_type": "execute_result"
    }
   ],
   "source": [
    "'56'+'98'"
   ]
  },
  {
   "cell_type": "code",
   "execution_count": 56,
   "id": "45580d72",
   "metadata": {},
   "outputs": [
    {
     "data": {
      "text/plain": [
       "'happy birthday'"
      ]
     },
     "execution_count": 56,
     "metadata": {},
     "output_type": "execute_result"
    }
   ],
   "source": [
    "'happy'+ ' birthday'"
   ]
  },
  {
   "cell_type": "code",
   "execution_count": 57,
   "id": "a1dce29f",
   "metadata": {},
   "outputs": [
    {
     "data": {
      "text/plain": [
       "'Elon musk'"
      ]
     },
     "execution_count": 57,
     "metadata": {},
     "output_type": "execute_result"
    }
   ],
   "source": [
    "'Elon'+' musk'"
   ]
  },
  {
   "cell_type": "code",
   "execution_count": 58,
   "id": "79928f4d",
   "metadata": {},
   "outputs": [
    {
     "data": {
      "text/plain": [
       "'lenovo samsung nokia Apple'"
      ]
     },
     "execution_count": 58,
     "metadata": {},
     "output_type": "execute_result"
    }
   ],
   "source": [
    "'lenovo'+' samsung'+' nokia'+' Apple'"
   ]
  },
  {
   "cell_type": "code",
   "execution_count": 59,
   "id": "d47e40c9",
   "metadata": {},
   "outputs": [
    {
     "data": {
      "text/plain": [
       "'tesla CEO'"
      ]
     },
     "execution_count": 59,
     "metadata": {},
     "output_type": "execute_result"
    }
   ],
   "source": [
    "'tesla'+ ' CEO'"
   ]
  },
  {
   "cell_type": "code",
   "execution_count": 61,
   "id": "3e6caf89",
   "metadata": {},
   "outputs": [
    {
     "data": {
      "text/plain": [
       "'DESKTOP LAPTOP'"
      ]
     },
     "execution_count": 61,
     "metadata": {},
     "output_type": "execute_result"
    }
   ],
   "source": [
    "\"DESKTOP\"+\" LAPTOP\""
   ]
  },
  {
   "cell_type": "code",
   "execution_count": 62,
   "id": "a6fcadd6",
   "metadata": {},
   "outputs": [
    {
     "data": {
      "text/plain": [
       "'Twitter meta instagram'"
      ]
     },
     "execution_count": 62,
     "metadata": {},
     "output_type": "execute_result"
    }
   ],
   "source": [
    "'Twitter'+ ' meta'+' instagram'"
   ]
  },
  {
   "cell_type": "code",
   "execution_count": 64,
   "id": "c44666fe",
   "metadata": {},
   "outputs": [
    {
     "name": "stdout",
     "output_type": "stream",
     "text": [
      "VIRGIN GALATIC SPACE TOURISM\n"
     ]
    }
   ],
   "source": [
    "print(\"VIRGIN\"+\" GALATIC\"+\" SPACE\"+\" TOURISM\")"
   ]
  },
  {
   "cell_type": "markdown",
   "id": "2d45f8dc",
   "metadata": {},
   "source": [
    "can be written with print command as well"
   ]
  },
  {
   "cell_type": "code",
   "execution_count": null,
   "id": "3dc81674",
   "metadata": {},
   "outputs": [],
   "source": []
  }
 ],
 "metadata": {
  "kernelspec": {
   "display_name": "Python 3 (ipykernel)",
   "language": "python",
   "name": "python3"
  },
  "language_info": {
   "codemirror_mode": {
    "name": "ipython",
    "version": 3
   },
   "file_extension": ".py",
   "mimetype": "text/x-python",
   "name": "python",
   "nbconvert_exporter": "python",
   "pygments_lexer": "ipython3",
   "version": "3.9.12"
  }
 },
 "nbformat": 4,
 "nbformat_minor": 5
}
