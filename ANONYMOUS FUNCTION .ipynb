{
 "cells": [
  {
   "cell_type": "markdown",
   "id": "0ec57d61",
   "metadata": {},
   "source": [
    "# ANONYMOUS/LAMBDA FUNCTION"
   ]
  },
  {
   "cell_type": "markdown",
   "id": "e2cb9602",
   "metadata": {},
   "source": [
    "ANONYMOUS function is written to write very less code with a single line expression.\n",
    "\n",
    "Small anonymous functions can be created with the lambda keyword.\n",
    "\n",
    "\n",
    "basic syntax is ---\n",
    "\n",
    "lambda<variable>:expression"
   ]
  },
  {
   "cell_type": "markdown",
   "id": "42b62241",
   "metadata": {},
   "source": [
    "A Lambda function is a small function containing a single expression.Lambda functions can also act as anonymous function where they dont require any name .\n",
    "\n",
    "These are helpful when we hve to perform small tasks with less code.\n",
    "\n",
    "The expression is composed of:-\n",
    "The keyword:Lambda\n",
    "The variable:x\n",
    "The body:x*2"
   ]
  },
  {
   "cell_type": "code",
   "execution_count": 2,
   "id": "5df245d1",
   "metadata": {},
   "outputs": [],
   "source": [
    "t=lambda var : var+2"
   ]
  },
  {
   "cell_type": "code",
   "execution_count": 3,
   "id": "21398ba1",
   "metadata": {},
   "outputs": [
    {
     "data": {
      "text/plain": [
       "7"
      ]
     },
     "execution_count": 3,
     "metadata": {},
     "output_type": "execute_result"
    }
   ],
   "source": [
    "t(5)"
   ]
  },
  {
   "cell_type": "code",
   "execution_count": 4,
   "id": "b334f61c",
   "metadata": {},
   "outputs": [
    {
     "data": {
      "text/plain": [
       "12"
      ]
     },
     "execution_count": 4,
     "metadata": {},
     "output_type": "execute_result"
    }
   ],
   "source": [
    "t(10)"
   ]
  },
  {
   "cell_type": "code",
   "execution_count": 5,
   "id": "51c33b2c",
   "metadata": {},
   "outputs": [
    {
     "data": {
      "text/plain": [
       "18"
      ]
     },
     "execution_count": 5,
     "metadata": {},
     "output_type": "execute_result"
    }
   ],
   "source": [
    "t(16)"
   ]
  },
  {
   "cell_type": "code",
   "execution_count": 6,
   "id": "99f478eb",
   "metadata": {},
   "outputs": [],
   "source": [
    "g=lambda var:var+4"
   ]
  },
  {
   "cell_type": "code",
   "execution_count": 7,
   "id": "da0e2717",
   "metadata": {},
   "outputs": [
    {
     "data": {
      "text/plain": [
       "12"
      ]
     },
     "execution_count": 7,
     "metadata": {},
     "output_type": "execute_result"
    }
   ],
   "source": [
    "g(8)"
   ]
  },
  {
   "cell_type": "code",
   "execution_count": 8,
   "id": "bbe706d9",
   "metadata": {},
   "outputs": [
    {
     "data": {
      "text/plain": [
       "16"
      ]
     },
     "execution_count": 8,
     "metadata": {},
     "output_type": "execute_result"
    }
   ],
   "source": [
    "g(12)"
   ]
  },
  {
   "cell_type": "code",
   "execution_count": 9,
   "id": "be08782a",
   "metadata": {},
   "outputs": [
    {
     "data": {
      "text/plain": [
       "24"
      ]
     },
     "execution_count": 9,
     "metadata": {},
     "output_type": "execute_result"
    }
   ],
   "source": [
    "g(20)"
   ]
  },
  {
   "cell_type": "code",
   "execution_count": 10,
   "id": "4bf08cdf",
   "metadata": {},
   "outputs": [],
   "source": [
    "p=lambda x :x*3   "
   ]
  },
  {
   "cell_type": "code",
   "execution_count": 11,
   "id": "69248914",
   "metadata": {},
   "outputs": [
    {
     "data": {
      "text/plain": [
       "15"
      ]
     },
     "execution_count": 11,
     "metadata": {},
     "output_type": "execute_result"
    }
   ],
   "source": [
    "p(5)"
   ]
  },
  {
   "cell_type": "code",
   "execution_count": 12,
   "id": "068324a8",
   "metadata": {},
   "outputs": [
    {
     "data": {
      "text/plain": [
       "24"
      ]
     },
     "execution_count": 12,
     "metadata": {},
     "output_type": "execute_result"
    }
   ],
   "source": [
    "p(8)"
   ]
  },
  {
   "cell_type": "code",
   "execution_count": 13,
   "id": "2391a72a",
   "metadata": {},
   "outputs": [],
   "source": [
    "m=lambda a,b :a*b"
   ]
  },
  {
   "cell_type": "code",
   "execution_count": 14,
   "id": "f057021d",
   "metadata": {},
   "outputs": [
    {
     "data": {
      "text/plain": [
       "50"
      ]
     },
     "execution_count": 14,
     "metadata": {},
     "output_type": "execute_result"
    }
   ],
   "source": [
    "m(10,5)"
   ]
  },
  {
   "cell_type": "code",
   "execution_count": 15,
   "id": "968c4b1c",
   "metadata": {},
   "outputs": [],
   "source": [
    "m=lambda a,b:a+b"
   ]
  },
  {
   "cell_type": "code",
   "execution_count": 16,
   "id": "3fbc9164",
   "metadata": {},
   "outputs": [
    {
     "data": {
      "text/plain": [
       "30"
      ]
     },
     "execution_count": 16,
     "metadata": {},
     "output_type": "execute_result"
    }
   ],
   "source": [
    "m(10,20)"
   ]
  },
  {
   "cell_type": "code",
   "execution_count": 17,
   "id": "1c6bfe12",
   "metadata": {},
   "outputs": [
    {
     "data": {
      "text/plain": [
       "100"
      ]
     },
     "execution_count": 17,
     "metadata": {},
     "output_type": "execute_result"
    }
   ],
   "source": [
    "m(50,50)"
   ]
  },
  {
   "cell_type": "code",
   "execution_count": 18,
   "id": "0f41d993",
   "metadata": {},
   "outputs": [],
   "source": [
    "k=lambda x,y,z:x+y+z"
   ]
  },
  {
   "cell_type": "code",
   "execution_count": 19,
   "id": "6e9be3ab",
   "metadata": {},
   "outputs": [
    {
     "data": {
      "text/plain": [
       "60"
      ]
     },
     "execution_count": 19,
     "metadata": {},
     "output_type": "execute_result"
    }
   ],
   "source": [
    "k(10,20,30)"
   ]
  },
  {
   "cell_type": "code",
   "execution_count": 20,
   "id": "690def1d",
   "metadata": {},
   "outputs": [
    {
     "data": {
      "text/plain": [
       "600"
      ]
     },
     "execution_count": 20,
     "metadata": {},
     "output_type": "execute_result"
    }
   ],
   "source": [
    "k(100,200,300)"
   ]
  },
  {
   "cell_type": "markdown",
   "id": "1fb278d8",
   "metadata": {},
   "source": [
    "TO FIND SQUARE"
   ]
  },
  {
   "cell_type": "code",
   "execution_count": 21,
   "id": "3c9f92a3",
   "metadata": {},
   "outputs": [],
   "source": [
    "square=lambda x : x**2"
   ]
  },
  {
   "cell_type": "code",
   "execution_count": 22,
   "id": "31545289",
   "metadata": {},
   "outputs": [
    {
     "data": {
      "text/plain": [
       "16"
      ]
     },
     "execution_count": 22,
     "metadata": {},
     "output_type": "execute_result"
    }
   ],
   "source": [
    "square(4)"
   ]
  },
  {
   "cell_type": "code",
   "execution_count": 23,
   "id": "7e7897d5",
   "metadata": {},
   "outputs": [
    {
     "data": {
      "text/plain": [
       "64"
      ]
     },
     "execution_count": 23,
     "metadata": {},
     "output_type": "execute_result"
    }
   ],
   "source": [
    "square(8)  #8*8"
   ]
  },
  {
   "cell_type": "code",
   "execution_count": 24,
   "id": "e5c77ee1",
   "metadata": {},
   "outputs": [
    {
     "data": {
      "text/plain": [
       "256"
      ]
     },
     "execution_count": 24,
     "metadata": {},
     "output_type": "execute_result"
    }
   ],
   "source": [
    "square(16)    #16*16"
   ]
  },
  {
   "cell_type": "markdown",
   "id": "c8a9b19e",
   "metadata": {},
   "source": [
    "TO FIND CUBE"
   ]
  },
  {
   "cell_type": "code",
   "execution_count": 25,
   "id": "6bed6310",
   "metadata": {},
   "outputs": [],
   "source": [
    "cube=lambda x:x**3"
   ]
  },
  {
   "cell_type": "code",
   "execution_count": 26,
   "id": "dc33d5ad",
   "metadata": {},
   "outputs": [
    {
     "data": {
      "text/plain": [
       "27"
      ]
     },
     "execution_count": 26,
     "metadata": {},
     "output_type": "execute_result"
    }
   ],
   "source": [
    "cube(3)   #3*3*3"
   ]
  },
  {
   "cell_type": "code",
   "execution_count": 28,
   "id": "fa46d66a",
   "metadata": {},
   "outputs": [
    {
     "data": {
      "text/plain": [
       "216"
      ]
     },
     "execution_count": 28,
     "metadata": {},
     "output_type": "execute_result"
    }
   ],
   "source": [
    "cube(6)   #6*6*6"
   ]
  },
  {
   "cell_type": "markdown",
   "id": "4040dcef",
   "metadata": {},
   "source": [
    "TO FIND AREA OF RECTANGLE"
   ]
  },
  {
   "cell_type": "code",
   "execution_count": 29,
   "id": "ca7d5059",
   "metadata": {},
   "outputs": [],
   "source": [
    "area=lambda length,breath:length*breath"
   ]
  },
  {
   "cell_type": "code",
   "execution_count": 30,
   "id": "954d3fd1",
   "metadata": {},
   "outputs": [
    {
     "data": {
      "text/plain": [
       "80"
      ]
     },
     "execution_count": 30,
     "metadata": {},
     "output_type": "execute_result"
    }
   ],
   "source": [
    "area(20,4)"
   ]
  },
  {
   "cell_type": "markdown",
   "id": "0e6b9f99",
   "metadata": {},
   "source": [
    "TO FIND AREA OF CIRCLE"
   ]
  },
  {
   "cell_type": "code",
   "execution_count": 32,
   "id": "f96abde6",
   "metadata": {},
   "outputs": [],
   "source": [
    "area_circle=lambda pi,radius:pi*(radius**2)"
   ]
  },
  {
   "cell_type": "code",
   "execution_count": 33,
   "id": "479d6d5b",
   "metadata": {},
   "outputs": [
    {
     "data": {
      "text/plain": [
       "113.04"
      ]
     },
     "execution_count": 33,
     "metadata": {},
     "output_type": "execute_result"
    }
   ],
   "source": [
    "area_circle(3.14,6)"
   ]
  },
  {
   "cell_type": "markdown",
   "id": "176465e5",
   "metadata": {},
   "source": [
    "TO FIND SQUARE ROOT"
   ]
  },
  {
   "cell_type": "code",
   "execution_count": 34,
   "id": "776bbc25",
   "metadata": {},
   "outputs": [],
   "source": [
    "sqroot=lambda x:x**(1/2)"
   ]
  },
  {
   "cell_type": "code",
   "execution_count": 35,
   "id": "aa3bee38",
   "metadata": {},
   "outputs": [
    {
     "data": {
      "text/plain": [
       "8.0"
      ]
     },
     "execution_count": 35,
     "metadata": {},
     "output_type": "execute_result"
    }
   ],
   "source": [
    "sqroot(64)"
   ]
  },
  {
   "cell_type": "code",
   "execution_count": 36,
   "id": "a7fbaf22",
   "metadata": {},
   "outputs": [
    {
     "data": {
      "text/plain": [
       "5.0"
      ]
     },
     "execution_count": 36,
     "metadata": {},
     "output_type": "execute_result"
    }
   ],
   "source": [
    "sqroot(25)"
   ]
  },
  {
   "cell_type": "markdown",
   "id": "39f9907d",
   "metadata": {},
   "source": [
    "TO FIND CUBE ROOT"
   ]
  },
  {
   "cell_type": "code",
   "execution_count": 37,
   "id": "1a273d0c",
   "metadata": {},
   "outputs": [],
   "source": [
    "cuberoot=lambda x:x**(1/3)"
   ]
  },
  {
   "cell_type": "code",
   "execution_count": 38,
   "id": "960c730a",
   "metadata": {},
   "outputs": [
    {
     "data": {
      "text/plain": [
       "3.0"
      ]
     },
     "execution_count": 38,
     "metadata": {},
     "output_type": "execute_result"
    }
   ],
   "source": [
    "cuberoot(27)"
   ]
  },
  {
   "cell_type": "markdown",
   "id": "f7db852e",
   "metadata": {},
   "source": [
    "ADDING 2 VARIABLES "
   ]
  },
  {
   "cell_type": "code",
   "execution_count": 39,
   "id": "ac588c6c",
   "metadata": {},
   "outputs": [],
   "source": [
    "addvar=lambda arg1,arg2 : arg1+arg2"
   ]
  },
  {
   "cell_type": "code",
   "execution_count": 40,
   "id": "7d55c796",
   "metadata": {},
   "outputs": [
    {
     "name": "stdout",
     "output_type": "stream",
     "text": [
      "Value of total: 15\n"
     ]
    }
   ],
   "source": [
    "print(\"Value of total:\",addvar(5,10))"
   ]
  },
  {
   "cell_type": "code",
   "execution_count": 41,
   "id": "61148058",
   "metadata": {},
   "outputs": [
    {
     "name": "stdout",
     "output_type": "stream",
     "text": [
      "Value of taotal: 70\n"
     ]
    }
   ],
   "source": [
    "print(\"Value of taotal:\",addvar(30,40))"
   ]
  },
  {
   "cell_type": "code",
   "execution_count": 59,
   "id": "d5b56594",
   "metadata": {},
   "outputs": [],
   "source": [
    "def testin():\n",
    "    x=int(input(\"Enter x\"))\n",
    "    y=int(input(\"enter y\"))\n",
    "    t=lambda x,y : x**y\n",
    "    print(t(x,y))         "
   ]
  },
  {
   "cell_type": "code",
   "execution_count": 60,
   "id": "770ea0af",
   "metadata": {},
   "outputs": [
    {
     "name": "stdout",
     "output_type": "stream",
     "text": [
      "Enter x4\n",
      "enter y3\n",
      "64\n"
     ]
    }
   ],
   "source": [
    "testin()"
   ]
  },
  {
   "cell_type": "markdown",
   "id": "1c14be9c",
   "metadata": {},
   "source": [
    "CONVERTING TEMPERATURE IN FAHRENHEIT"
   ]
  },
  {
   "cell_type": "code",
   "execution_count": 65,
   "id": "8d5753ea",
   "metadata": {},
   "outputs": [],
   "source": [
    "def fahrenheit(T):     # degree celsius is converted in fahrenheit\n",
    "    return((9/5)*T+32)"
   ]
  },
  {
   "cell_type": "code",
   "execution_count": 66,
   "id": "279ec89b",
   "metadata": {},
   "outputs": [],
   "source": [
    "f=fahrenheit(35)"
   ]
  },
  {
   "cell_type": "code",
   "execution_count": 67,
   "id": "90086247",
   "metadata": {},
   "outputs": [
    {
     "data": {
      "text/plain": [
       "95.0"
      ]
     },
     "execution_count": 67,
     "metadata": {},
     "output_type": "execute_result"
    }
   ],
   "source": [
    "f"
   ]
  },
  {
   "cell_type": "markdown",
   "id": "49bf7942",
   "metadata": {},
   "source": [
    "CONVERTING TEMPERATURE IN CELSIUS "
   ]
  },
  {
   "cell_type": "code",
   "execution_count": 71,
   "id": "b97151e5",
   "metadata": {},
   "outputs": [],
   "source": [
    "def celsius(T):                #degree fahrenheit converted into celsius\n",
    "    return((5/9)*(T-32))"
   ]
  },
  {
   "cell_type": "code",
   "execution_count": 72,
   "id": "7ee76ecf",
   "metadata": {},
   "outputs": [],
   "source": [
    "c=celsius(95)"
   ]
  },
  {
   "cell_type": "code",
   "execution_count": 73,
   "id": "e850901d",
   "metadata": {},
   "outputs": [
    {
     "data": {
      "text/plain": [
       "35.0"
      ]
     },
     "execution_count": 73,
     "metadata": {},
     "output_type": "execute_result"
    }
   ],
   "source": [
    "c"
   ]
  },
  {
   "cell_type": "markdown",
   "id": "832f09b1",
   "metadata": {},
   "source": [
    "USING LAMBDA FUNCTION(ABOVE CODES):="
   ]
  },
  {
   "cell_type": "code",
   "execution_count": 79,
   "id": "8b5a9520",
   "metadata": {},
   "outputs": [],
   "source": [
    "celsiustemp=lambda t:(9/5)*t+32\n"
   ]
  },
  {
   "cell_type": "code",
   "execution_count": 80,
   "id": "ff29d5e8",
   "metadata": {},
   "outputs": [
    {
     "data": {
      "text/plain": [
       "95.0"
      ]
     },
     "execution_count": 80,
     "metadata": {},
     "output_type": "execute_result"
    }
   ],
   "source": [
    "celsiustemp(35)"
   ]
  },
  {
   "cell_type": "code",
   "execution_count": 83,
   "id": "70edf489",
   "metadata": {},
   "outputs": [],
   "source": [
    "fahrenheittemp=lambda t:(5/9)*(t-32)"
   ]
  },
  {
   "cell_type": "code",
   "execution_count": 84,
   "id": "502a06f8",
   "metadata": {},
   "outputs": [
    {
     "data": {
      "text/plain": [
       "35.0"
      ]
     },
     "execution_count": 84,
     "metadata": {},
     "output_type": "execute_result"
    }
   ],
   "source": [
    "fahrenheittemp(95)"
   ]
  },
  {
   "cell_type": "code",
   "execution_count": 85,
   "id": "8843727c",
   "metadata": {},
   "outputs": [
    {
     "data": {
      "text/plain": [
       "37.77777777777778"
      ]
     },
     "execution_count": 85,
     "metadata": {},
     "output_type": "execute_result"
    }
   ],
   "source": [
    "fahrenheittemp(100)"
   ]
  },
  {
   "cell_type": "code",
   "execution_count": 86,
   "id": "a7fd990d",
   "metadata": {},
   "outputs": [
    {
     "data": {
      "text/plain": [
       "38.88888888888889"
      ]
     },
     "execution_count": 86,
     "metadata": {},
     "output_type": "execute_result"
    }
   ],
   "source": [
    "fahrenheittemp(102)"
   ]
  },
  {
   "cell_type": "markdown",
   "id": "3e90b680",
   "metadata": {},
   "source": [
    "we can use user input also."
   ]
  },
  {
   "cell_type": "markdown",
   "id": "fd862fee",
   "metadata": {},
   "source": [
    "The parameters of the lambda are defined to the left of the colon and the function body is defined to the right of the colon ."
   ]
  },
  {
   "cell_type": "markdown",
   "id": "afd9bd6d",
   "metadata": {},
   "source": [
    "# MAP FUNCTION IN LAMBDA FUNCTION"
   ]
  },
  {
   "cell_type": "code",
   "execution_count": null,
   "id": "4c27f226",
   "metadata": {},
   "outputs": [],
   "source": []
  }
 ],
 "metadata": {
  "kernelspec": {
   "display_name": "Python 3 (ipykernel)",
   "language": "python",
   "name": "python3"
  },
  "language_info": {
   "codemirror_mode": {
    "name": "ipython",
    "version": 3
   },
   "file_extension": ".py",
   "mimetype": "text/x-python",
   "name": "python",
   "nbconvert_exporter": "python",
   "pygments_lexer": "ipython3",
   "version": "3.9.12"
  }
 },
 "nbformat": 4,
 "nbformat_minor": 5
}
